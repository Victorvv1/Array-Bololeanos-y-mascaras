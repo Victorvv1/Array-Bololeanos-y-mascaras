{
  "nbformat": 4,
  "nbformat_minor": 0,
  "metadata": {
    "colab": {
      "provenance": []
    },
    "kernelspec": {
      "name": "python3",
      "display_name": "Python 3"
    },
    "language_info": {
      "name": "python"
    }
  },
  "cells": [
    {
      "cell_type": "markdown",
      "source": [
        "# Arrays Booleanos y Máscaras"
      ],
      "metadata": {
        "id": "gO3fuaKcVtx1"
      }
    },
    {
      "cell_type": "code",
      "source": [
        "import numpy as np\n",
        "from vega_datasets import data\n",
        "\n",
        "rainfall_mm = np.array(data.seattle_weather().set_index('date')['precipitation']['2015'])\n",
        "len(rainfall_mm)\n",
        "print(rainfall_mm)"
      ],
      "metadata": {
        "colab": {
          "base_uri": "https://localhost:8080/"
        },
        "id": "2q76g88yVxBb",
        "outputId": "0b1a2421-fb55-41fc-f200-fee3bf5e2245"
      },
      "execution_count": null,
      "outputs": [
        {
          "output_type": "stream",
          "name": "stdout",
          "text": [
            "[ 0.   1.5  0.  10.2  8.1  0.   0.   0.   0.3  5.8  1.5  0.   0.   0.\n",
            "  9.7  0.  26.2 21.3  0.5  0.   0.   0.8  5.8  0.5  0.   0.   0.8  0.\n",
            "  0.   0.   0.   1.5  7.4  1.3  8.4 26.2 17.3 23.6  3.6  6.1  0.3  0.\n",
            "  1.   0.   0.3  0.   0.   0.   0.   4.6  0.8  0.   0.   0.   0.   4.1\n",
            "  9.4 18.3  0.   0.   0.   0.   0.   0.   0.   0.   0.   0.   0.8  2.5\n",
            "  0.   2.  17.  55.9  1.   0.8  0.   0.   4.1  3.8  1.   8.1  7.6  5.1\n",
            "  0.   1.   0.   0.   1.8  1.   5.1  0.   1.5  0.   0.   1.   0.5  0.\n",
            "  0.  10.9  0.   0.  14.   3.3  0.   0.   0.   0.   0.   0.   5.6  0.\n",
            "  3.   3.3  1.3  0.   0.3  1.8  0.   0.   0.   0.   0.   0.   6.1  0.\n",
            "  0.   0.   0.   0.   0.   4.3  4.1  0.3  0.   0.   0.   0.   0.   0.\n",
            "  0.   0.   0.   0.   0.   0.   0.   0.   0.   0.   0.   4.6  0.5  0.\n",
            "  0.   0.   0.   0.   0.   0.   0.   0.   0.   0.   0.   0.   0.   0.\n",
            "  0.   0.5  0.   0.   0.   0.   0.   0.   0.   0.   0.3  0.   0.   0.\n",
            "  0.   0.   0.   0.   0.   0.   0.   0.   0.   0.   0.   0.   0.   0.\n",
            "  0.   0.   0.   0.   0.   0.   0.   0.   0.3  0.   2.   0.   0.   0.\n",
            "  0.   0.   0.   0.   0.   0.   0.   0.   0.   0.   0.   0.   0.   7.6\n",
            "  0.  30.5  0.   0.   0.   0.   0.   2.   0.   0.   0.   0.   0.   0.\n",
            "  0.   0.5 32.5 10.2  0.   5.8  0.   0.   0.   0.3  5.3  0.3  0.   0.\n",
            "  0.   0.   0.   0.5  0.   0.   1.   1.8  0.   0.   4.1  0.   0.   0.\n",
            "  0.   2.   0.   0.   0.   0.   0.   0.   0.   0.   0.   0.   0.   9.9\n",
            "  0.   0.3 28.7  0.   4.6  1.3  0.   0.   0.   0.3  3.8  0.3  0.   0.\n",
            "  0.   0.   0.   8.9  6.9  0.   3.3  1.8 19.3 33.  26.2  0.3  0.8  0.\n",
            "  1.3  0.  12.7  6.6  3.3  1.3  1.5  9.9 33.5 47.2 22.4  2.  29.5  1.5\n",
            "  2.   0.   0.   0.   3.   7.1  0.   0.   0.   0.   0.   0.5 12.2  2.5\n",
            " 12.7  2.  15.7 11.2 27.4 54.1 13.5  9.4  0.3 16.   1.3  0.   1.5  3.6\n",
            " 21.8 18.5  0.   4.3 27.4  4.6  6.1  2.5  5.8  0.   8.6  1.5  0.   0.\n",
            "  0. ]\n"
          ]
        }
      ]
    },
    {
      "cell_type": "code",
      "source": [
        "%matplotlib inline\n",
        "import matplotlib.pyplot as plt\n",
        "plt.style.use('seaborn-v0_8-whitegrid')"
      ],
      "metadata": {
        "id": "Llp426ByWXRo"
      },
      "execution_count": null,
      "outputs": []
    },
    {
      "cell_type": "code",
      "source": [
        "plt.hist(rainfall_mm, 40)"
      ],
      "metadata": {
        "colab": {
          "base_uri": "https://localhost:8080/",
          "height": 616
        },
        "id": "oYkALWWOWVln",
        "outputId": "8bfe89ad-d0ed-4550-d6d8-b76071f69dab"
      },
      "execution_count": null,
      "outputs": [
        {
          "output_type": "execute_result",
          "data": {
            "text/plain": [
              "(array([262.,  22.,  14.,   9.,  10.,   6.,   6.,   5.,   2.,   3.,   1.,\n",
              "          2.,   2.,   3.,   0.,   2.,   2.,   0.,   3.,   2.,   1.,   2.,\n",
              "          0.,   3.,   0.,   0.,   0.,   0.,   0.,   0.,   0.,   0.,   0.,\n",
              "          1.,   0.,   0.,   0.,   0.,   1.,   1.]),\n",
              " array([ 0.    ,  1.3975,  2.795 ,  4.1925,  5.59  ,  6.9875,  8.385 ,\n",
              "         9.7825, 11.18  , 12.5775, 13.975 , 15.3725, 16.77  , 18.1675,\n",
              "        19.565 , 20.9625, 22.36  , 23.7575, 25.155 , 26.5525, 27.95  ,\n",
              "        29.3475, 30.745 , 32.1425, 33.54  , 34.9375, 36.335 , 37.7325,\n",
              "        39.13  , 40.5275, 41.925 , 43.3225, 44.72  , 46.1175, 47.515 ,\n",
              "        48.9125, 50.31  , 51.7075, 53.105 , 54.5025, 55.9   ]),\n",
              " <BarContainer object of 40 artists>)"
            ]
          },
          "metadata": {},
          "execution_count": 8
        },
        {
          "output_type": "display_data",
          "data": {
            "text/plain": [
              "<Figure size 640x480 with 1 Axes>"
            ],
            "image/png": "[encoded data removed]"
          },
          "metadata": {}
        }
      ]
    },
    {
      "cell_type": "code",
      "source": [],
      "metadata": {
        "id": "razqVihTWk6d"
      },
      "execution_count": null,
      "outputs": []
    },
    {
      "cell_type": "markdown",
      "source": [
        "# Operadores de comparación"
      ],
      "metadata": {
        "id": "pnM--ixJW0_R"
      }
    },
    {
      "cell_type": "code",
      "source": [
        "x = np.array([1, 2, 3, 4, 5])"
      ],
      "metadata": {
        "id": "3k_LifMJWj6K"
      },
      "execution_count": null,
      "outputs": []
    },
    {
      "cell_type": "code",
      "source": [
        "x < 3"
      ],
      "metadata": {
        "colab": {
          "base_uri": "https://localhost:8080/"
        },
        "id": "fPrtt_12W-q5",
        "outputId": "48a4a738-a857-4617-8ffa-24e8b6566cac"
      },
      "execution_count": null,
      "outputs": [
        {
          "output_type": "execute_result",
          "data": {
            "text/plain": [
              "array([ True,  True, False, False, False])"
            ]
          },
          "metadata": {},
          "execution_count": 10
        }
      ]
    },
    {
      "cell_type": "code",
      "source": [
        "x > 3"
      ],
      "metadata": {
        "colab": {
          "base_uri": "https://localhost:8080/"
        },
        "id": "ObqOMPENXBhQ",
        "outputId": "9c15ddc4-210a-4b30-dc76-191132336cc5"
      },
      "execution_count": null,
      "outputs": [
        {
          "output_type": "execute_result",
          "data": {
            "text/plain": [
              "array([False, False, False,  True,  True])"
            ]
          },
          "metadata": {},
          "execution_count": 11
        }
      ]
    },
    {
      "cell_type": "code",
      "source": [
        "x <= 3"
      ],
      "metadata": {
        "colab": {
          "base_uri": "https://localhost:8080/"
        },
        "id": "OqNsh6V9XGif",
        "outputId": "03666124-b95a-4bed-dde8-5d2c9e57ee07"
      },
      "execution_count": null,
      "outputs": [
        {
          "output_type": "execute_result",
          "data": {
            "text/plain": [
              "array([ True,  True,  True, False, False])"
            ]
          },
          "metadata": {},
          "execution_count": 12
        }
      ]
    },
    {
      "cell_type": "code",
      "source": [
        "x >= 3"
      ],
      "metadata": {
        "colab": {
          "base_uri": "https://localhost:8080/"
        },
        "id": "HLrAyAylXIRW",
        "outputId": "58effdad-6a01-4631-b1c2-9c8efee6c058"
      },
      "execution_count": null,
      "outputs": [
        {
          "output_type": "execute_result",
          "data": {
            "text/plain": [
              "array([False, False,  True,  True,  True])"
            ]
          },
          "metadata": {},
          "execution_count": 13
        }
      ]
    },
    {
      "cell_type": "code",
      "source": [
        "x != 3"
      ],
      "metadata": {
        "colab": {
          "base_uri": "https://localhost:8080/"
        },
        "id": "q14hhl48XKX0",
        "outputId": "bdf1bf3b-c3cb-4ad3-c097-03295c0adb60"
      },
      "execution_count": null,
      "outputs": [
        {
          "output_type": "execute_result",
          "data": {
            "text/plain": [
              "array([ True,  True, False,  True,  True])"
            ]
          },
          "metadata": {},
          "execution_count": 14
        }
      ]
    },
    {
      "cell_type": "code",
      "source": [
        "x == 3"
      ],
      "metadata": {
        "colab": {
          "base_uri": "https://localhost:8080/"
        },
        "id": "Eu8ijAkSXMBh",
        "outputId": "4383faad-5b9b-4158-ae1d-7097ed31ca36"
      },
      "execution_count": null,
      "outputs": [
        {
          "output_type": "execute_result",
          "data": {
            "text/plain": [
              "array([False, False,  True, False, False])"
            ]
          },
          "metadata": {},
          "execution_count": 15
        }
      ]
    },
    {
      "cell_type": "code",
      "source": [
        "(2 * x) == (x ** 2)"
      ],
      "metadata": {
        "colab": {
          "base_uri": "https://localhost:8080/"
        },
        "id": "7OqFUpUiXNLP",
        "outputId": "c110aed9-1135-4afb-90fe-85f80bd515a0"
      },
      "execution_count": null,
      "outputs": [
        {
          "output_type": "execute_result",
          "data": {
            "text/plain": [
              "array([False,  True, False, False, False])"
            ]
          },
          "metadata": {},
          "execution_count": 16
        }
      ]
    },
    {
      "cell_type": "markdown",
      "source": [
        "x < 3, lo que hace numpy es np.less(x, 3)\n",
        "\n",
        "| Operator    | Equivalent ufunc  | Operator   | Equivalent ufunc |\n",
        "|-------------|-------------------|------------|------------------|\n",
        "|`==`         |`np.equal`         |`!=`        |`np.not_equal`    |\n",
        "|`<`          |`np.less`          |`<=`        |`np.less_equal`   |\n",
        "|`>`          |`np.greater`       |`>=`        |`np.greater_equal`|"
      ],
      "metadata": {
        "id": "xzefb230XV_S"
      }
    },
    {
      "cell_type": "code",
      "source": [
        "rng = np.random.default_rng(seed=1701)\n",
        "x = rng.integers(10, size=(3, 4))\n",
        "x"
      ],
      "metadata": {
        "colab": {
          "base_uri": "https://localhost:8080/"
        },
        "id": "gSSmLKpNXSJa",
        "outputId": "26e229d9-7910-4d2c-b09f-b04a692a9a50"
      },
      "execution_count": null,
      "outputs": [
        {
          "output_type": "execute_result",
          "data": {
            "text/plain": [
              "array([[9, 4, 0, 3],\n",
              "       [8, 6, 3, 1],\n",
              "       [3, 7, 4, 0]])"
            ]
          },
          "metadata": {},
          "execution_count": 17
        }
      ]
    },
    {
      "cell_type": "code",
      "source": [
        "x < 6"
      ],
      "metadata": {
        "colab": {
          "base_uri": "https://localhost:8080/"
        },
        "id": "XHE3G7ZrXtbq",
        "outputId": "a0827fd9-9e6e-472c-c5ec-12795efb4317"
      },
      "execution_count": null,
      "outputs": [
        {
          "output_type": "execute_result",
          "data": {
            "text/plain": [
              "array([[False,  True,  True,  True],\n",
              "       [False, False,  True,  True],\n",
              "       [ True, False,  True,  True]])"
            ]
          },
          "metadata": {},
          "execution_count": 18
        }
      ]
    },
    {
      "cell_type": "markdown",
      "source": [
        "## Trabajando con Arrays Booleanos"
      ],
      "metadata": {
        "id": "jGFRkHxZXxzZ"
      }
    },
    {
      "cell_type": "code",
      "source": [
        "print(x)"
      ],
      "metadata": {
        "colab": {
          "base_uri": "https://localhost:8080/"
        },
        "id": "91cx4SxNXuyI",
        "outputId": "8f7e72e8-f555-482a-af11-68740be7739a"
      },
      "execution_count": null,
      "outputs": [
        {
          "output_type": "stream",
          "name": "stdout",
          "text": [
            "[[9 4 0 3]\n",
            " [8 6 3 1]\n",
            " [3 7 4 0]]\n"
          ]
        }
      ]
    },
    {
      "cell_type": "code",
      "source": [
        "# Cuántos elementos son menores que 6?\n",
        "np.count_nonzero(x < 6)"
      ],
      "metadata": {
        "colab": {
          "base_uri": "https://localhost:8080/"
        },
        "id": "c1HgSZSJX2Q6",
        "outputId": "89f902c2-1419-47fb-912e-2db0db1acb56"
      },
      "execution_count": null,
      "outputs": [
        {
          "output_type": "execute_result",
          "data": {
            "text/plain": [
              "8"
            ]
          },
          "metadata": {},
          "execution_count": 20
        }
      ]
    },
    {
      "cell_type": "code",
      "source": [
        "np.sum(x < 6)"
      ],
      "metadata": {
        "colab": {
          "base_uri": "https://localhost:8080/"
        },
        "id": "xFqWpm35X8dH",
        "outputId": "28cf187d-5d70-49ba-eea9-67dbde9769ad"
      },
      "execution_count": null,
      "outputs": [
        {
          "output_type": "execute_result",
          "data": {
            "text/plain": [
              "np.int64(8)"
            ]
          },
          "metadata": {},
          "execution_count": 21
        }
      ]
    },
    {
      "cell_type": "code",
      "source": [
        "np.sum(x <6 , axis=1) # Cuenta en cada fila"
      ],
      "metadata": {
        "colab": {
          "base_uri": "https://localhost:8080/"
        },
        "id": "NYiRtpTYYBPh",
        "outputId": "a2e3d95a-6344-4281-d037-2c5b2b8c58f7"
      },
      "execution_count": null,
      "outputs": [
        {
          "output_type": "execute_result",
          "data": {
            "text/plain": [
              "array([3, 2, 3])"
            ]
          },
          "metadata": {},
          "execution_count": 22
        }
      ]
    },
    {
      "cell_type": "code",
      "source": [
        "# Hay algún valor mayor que 8?\n",
        "np.any(x > 8)"
      ],
      "metadata": {
        "colab": {
          "base_uri": "https://localhost:8080/"
        },
        "id": "GYerAOXqYIBS",
        "outputId": "94b0f557-f857-46b3-fbe4-a5260d387f42"
      },
      "execution_count": null,
      "outputs": [
        {
          "output_type": "execute_result",
          "data": {
            "text/plain": [
              "np.True_"
            ]
          },
          "metadata": {},
          "execution_count": 23
        }
      ]
    },
    {
      "cell_type": "code",
      "source": [
        "# Hay algún valor menor que 0?\n",
        "np.any(x < 0)"
      ],
      "metadata": {
        "colab": {
          "base_uri": "https://localhost:8080/"
        },
        "id": "3MraWOF9YRhr",
        "outputId": "c7d0de66-27d1-4c85-95e8-77bd90d86aa5"
      },
      "execution_count": null,
      "outputs": [
        {
          "output_type": "execute_result",
          "data": {
            "text/plain": [
              "np.False_"
            ]
          },
          "metadata": {},
          "execution_count": 24
        }
      ]
    },
    {
      "cell_type": "code",
      "source": [
        "# Todos los valores son igual a 6?\n",
        "np.all(x == 6)"
      ],
      "metadata": {
        "colab": {
          "base_uri": "https://localhost:8080/"
        },
        "id": "KBdRa7IiYWHF",
        "outputId": "4abf4105-c997-4497-d3ee-7fd7197a594f"
      },
      "execution_count": null,
      "outputs": [
        {
          "output_type": "execute_result",
          "data": {
            "text/plain": [
              "np.False_"
            ]
          },
          "metadata": {},
          "execution_count": 25
        }
      ]
    },
    {
      "cell_type": "code",
      "source": [
        "# np.all y np.any también se pueden utilizar en cada eje\n",
        "np.all(x < 8, axis=1)"
      ],
      "metadata": {
        "colab": {
          "base_uri": "https://localhost:8080/"
        },
        "id": "KwK8srFEYbPB",
        "outputId": "60aedd45-7404-466e-f977-23ce2f5a6887"
      },
      "execution_count": null,
      "outputs": [
        {
          "output_type": "execute_result",
          "data": {
            "text/plain": [
              "array([False, False,  True])"
            ]
          },
          "metadata": {},
          "execution_count": 26
        }
      ]
    },
    {
      "cell_type": "markdown",
      "source": [
        "## Operaciones Booleanas\n"
      ],
      "metadata": {
        "id": "sC6Oc5NJYrqO"
      }
    },
    {
      "cell_type": "code",
      "source": [
        "np.sum((rainfall_mm > 10) & (rainfall_mm < 20))"
      ],
      "metadata": {
        "colab": {
          "base_uri": "https://localhost:8080/"
        },
        "id": "R6XTKBgBYkZc",
        "outputId": "ad932710-7bb0-418e-974d-df2500f3ccee"
      },
      "execution_count": null,
      "outputs": [
        {
          "output_type": "execute_result",
          "data": {
            "text/plain": [
              "np.int64(16)"
            ]
          },
          "metadata": {},
          "execution_count": 27
        }
      ]
    },
    {
      "cell_type": "markdown",
      "source": [
        "Los paréntesis son necesarios en esete tipo de operaciones, sin ellos la expresión que evaluaría sería la siguiente\n",
        "\n",
        "``` python\n",
        "rainfall_mm > (10 & rainfall_mm) < 20\n",
        "```"
      ],
      "metadata": {
        "id": "uMUTTho7ZBzJ"
      }
    },
    {
      "cell_type": "code",
      "source": [
        "np.sum(~( (rainfall_mm <= 10) | (rainfall_mm >= 20) ))"
      ],
      "metadata": {
        "colab": {
          "base_uri": "https://localhost:8080/"
        },
        "id": "gwbfJSBxWT5G",
        "outputId": "1154e5b8-5ca4-49fa-e38c-2ad8aa79a16b"
      },
      "execution_count": null,
      "outputs": [
        {
          "output_type": "execute_result",
          "data": {
            "text/plain": [
              "np.int64(16)"
            ]
          },
          "metadata": {},
          "execution_count": 28
        }
      ]
    },
    {
      "cell_type": "markdown",
      "source": [
        "1. `(rainfall_mm <= 10)` - Crea un array booleano donde `True` indica valores menores o iguales a 10 mm\n",
        "   \n",
        "2. `(rainfall_mm >= 20)` - Crea un array booleano donde `True` indica valores mayores o iguales a 20 mm\n",
        "   \n",
        "3. `(rainfall_mm <= 10) | (rainfall_mm >= 20)` - Usa el operador OR lógico `|` para combinar ambas condiciones. El resultado es un array booleano donde `True` indica valores que están fuera del rango (10, 20), es decir, que son ≤ 10 O ≥ 20\n",
        "\n",
        "4. `~( ... )` - El operador `~` invierte todos los booleanos. Ahora `True` indica valores que NO están fuera del rango, es decir, que están dentro del rango (10, 20)\n",
        "\n",
        "5. `np.sum(...)` - Suma todos los valores del array booleano. Como `True` se convierte a 1 y `False` a 0 en operaciones numéricas, esto cuenta el número de elementos que cumplen la condición"
      ],
      "metadata": {
        "id": "pDJSX137ZVKs"
      }
    },
    {
      "cell_type": "markdown",
      "source": [
        "| Operator    | Equivalent ufunc  | Operator    | Equivalent ufunc  |\n",
        "|-------------|-------------------|-------------|-------------------|\n",
        "|`&`          |`np.bitwise_and`   |&#124;       |`np.bitwise_or`    |\n",
        "|`^`          |`np.bitwise_xor`   |`~`          |`np.bitwise_not`   |"
      ],
      "metadata": {
        "id": "3e6m9C5vaCIn"
      }
    },
    {
      "cell_type": "code",
      "source": [
        "print(\"Number days without rain:  \", np.sum(rainfall_mm == 0))\n",
        "print(\"Number days with rain:     \", np.sum(rainfall_mm != 0))\n",
        "print(\"Days with more than 10 mm: \", np.sum(rainfall_mm > 10))\n",
        "print(\"Rainy days with < 5 mm:    \", np.sum((rainfall_mm > 0) &\n",
        "                                            (rainfall_mm < 5)))"
      ],
      "metadata": {
        "colab": {
          "base_uri": "https://localhost:8080/"
        },
        "id": "Ng7ymrcMWMrI",
        "outputId": "da9de2b3-0df0-4d7b-af5f-be19ed9d7bda"
      },
      "execution_count": null,
      "outputs": [
        {
          "output_type": "stream",
          "name": "stdout",
          "text": [
            "Number days without rain:   221\n",
            "Number days with rain:      144\n",
            "Days with more than 10 mm:  34\n",
            "Rainy days with < 5 mm:     83\n"
          ]
        }
      ]
    },
    {
      "cell_type": "markdown",
      "source": [
        "## Arrays Booleanos y Máscaras"
      ],
      "metadata": {
        "id": "JORyntQCaRhG"
      }
    },
    {
      "cell_type": "code",
      "source": [
        "x"
      ],
      "metadata": {
        "colab": {
          "base_uri": "https://localhost:8080/"
        },
        "id": "g7V1qbGjaV3m",
        "outputId": "3726a1e1-1a85-49f1-f244-12e00f85d000"
      },
      "execution_count": null,
      "outputs": [
        {
          "output_type": "execute_result",
          "data": {
            "text/plain": [
              "array([[9, 4, 0, 3],\n",
              "       [8, 6, 3, 1],\n",
              "       [3, 7, 4, 0]])"
            ]
          },
          "metadata": {},
          "execution_count": 32
        }
      ]
    },
    {
      "cell_type": "code",
      "source": [
        "x < 5"
      ],
      "metadata": {
        "colab": {
          "base_uri": "https://localhost:8080/"
        },
        "id": "VQ2YQDEfaWfA",
        "outputId": "1a71d7cb-5ed4-40d6-b843-d1c875f50dd1"
      },
      "execution_count": null,
      "outputs": [
        {
          "output_type": "execute_result",
          "data": {
            "text/plain": [
              "array([[False,  True,  True,  True],\n",
              "       [False, False,  True,  True],\n",
              "       [ True, False,  True,  True]])"
            ]
          },
          "metadata": {},
          "execution_count": 33
        }
      ]
    },
    {
      "cell_type": "code",
      "source": [
        "x[x < 5]"
      ],
      "metadata": {
        "colab": {
          "base_uri": "https://localhost:8080/"
        },
        "id": "4S95KW5vaYf1",
        "outputId": "4c2b4b38-5e12-40ff-cab4-cbaa04d94f07"
      },
      "execution_count": null,
      "outputs": [
        {
          "output_type": "execute_result",
          "data": {
            "text/plain": [
              "array([4, 0, 3, 3, 1, 3, 4, 0])"
            ]
          },
          "metadata": {},
          "execution_count": 34
        }
      ]
    },
    {
      "cell_type": "code",
      "source": [
        "rainy =  (rainfall_mm > 0)\n",
        "\n",
        "days = np.arange(365)\n",
        "summer = (days > 172) & (days < 262)\n",
        "\n",
        "print(\"Median precip on rainy days in 2015 (mm):   \",\n",
        "      np.median(rainfall_mm[rainy]))\n",
        "print(\"Median precip on summer days in 2015 (mm):  \",\n",
        "      np.median(rainfall_mm[summer]))\n",
        "print(\"Maximum precip on summer days in 2015 (mm): \",\n",
        "      np.max(rainfall_mm[summer]))\n",
        "print(\"Median precip on non-summer rainy days (mm):\",\n",
        "      np.median(rainfall_mm[rainy & ~summer]))"
      ],
      "metadata": {
        "colab": {
          "base_uri": "https://localhost:8080/"
        },
        "id": "sxHsM8kAaccA",
        "outputId": "ca333865-725f-4d1b-c46f-6db427abed83"
      },
      "execution_count": null,
      "outputs": [
        {
          "output_type": "stream",
          "name": "stdout",
          "text": [
            "Median precip on rainy days in 2015 (mm):    3.8\n",
            "Median precip on summer days in 2015 (mm):   0.0\n",
            "Maximum precip on summer days in 2015 (mm):  32.5\n",
            "Median precip on non-summer rainy days (mm): 4.1\n"
          ]
        }
      ]
    },
    {
      "cell_type": "markdown",
      "source": [
        "## Diferencia entre `and/or` y `&/|` en Python\n",
        "\n",
        "## Operadores lógicos (`and`, `or`) vs. operadores a nivel de bit (`&`, `|`)\n",
        "\n",
        "La diferencia clave es:\n",
        "\n",
        "- **`and` y `or`** operan sobre objetos completos, evaluando su veracidad como un todo\n",
        "- **`&` y `|`** operan elemento por elemento (o bit por bit)\n",
        "\n",
        "## Cómo funcionan `and` y `or`\n",
        "\n",
        "Cuando usas `and` u `or`, Python convierte cada objeto completo en un valor booleano (verdadero o falso) y luego realiza la operación lógica.\n",
        "\n",
        "En Python, los enteros no-cero se evalúan como `True` y cero como `False`:\n",
        "\n",
        "```python\n",
        "bool(42)  # True\n",
        "bool(0)   # False\n",
        "\n",
        "bool(42 and 0)  # False, porque ambos deben ser True para que and dé True\n",
        "bool(42 or 0)   # True, porque basta con que uno sea True para que or dé True\n",
        "```\n",
        "\n",
        "## Cómo funcionan `&` y `|` con enteros\n",
        "\n",
        "Cuando aplicas `&` o `|` a enteros, estos operan a nivel de bits:\n",
        "\n",
        "```python\n",
        "bin(42)     # '0b101010'\n",
        "bin(59)     # '0b111011'\n",
        "\n",
        "bin(42 & 59)  # '0b101010' (1 solo donde AMBOS bits son 1)\n",
        "bin(42 | 59)  # '0b111011' (1 donde CUALQUIERA de los bits es 1)\n",
        "```\n",
        "\n",
        "El operador `&` (AND a nivel de bits) compara cada par de bits correspondientes y produce un 1 solo cuando ambos bits son 1. El operador `|` (OR a nivel de bits) produce un 1 cuando cualquiera de los bits es 1.\n",
        "\n",
        "## Aplicación a arrays de NumPy\n",
        "\n",
        "Esta distinción se vuelve crucial cuando trabajas con arrays de NumPy:\n",
        "\n",
        "```python\n",
        "A = np.array([1, 0, 1, 0, 1, 0], dtype=bool)\n",
        "B = np.array([1, 1, 1, 0, 1, 1], dtype=bool)\n",
        "\n",
        "A | B  # array([True, True, True, False, True, True])\n",
        "```\n",
        "\n",
        "Aquí, `|` compara elementos correspondientes uno a uno, exactamente lo que queremos hacer con arrays.\n",
        "\n",
        "Si intentas usar `or` con arrays:\n",
        "\n",
        "```python\n",
        "A or B  # ERROR: ValueError\n",
        "```\n",
        "\n",
        "Esto falla porque `or` intenta evaluar la veracidad de todo el array como un solo objeto, lo cual no está bien definido en NumPy.\n",
        "\n",
        "## Uso correcto con condiciones en NumPy\n",
        "\n",
        "Al evaluar condiciones con arrays de NumPy, siempre deberías usar `&` y `|`:\n",
        "\n",
        "```python\n",
        "x = np.arange(10)\n",
        "(x > 4) & (x < 8)  # array([False, False, False, False, False, True, True, True, False, False])\n",
        "```\n",
        "\n",
        "Esto revisa cada elemento del array y devuelve `True` solo para aquellos que cumplen ambas condiciones (mayor que 4 Y menor que 8).\n",
        "\n",
        "Si intentas la misma operación con `and`:\n",
        "\n",
        "```python\n",
        "(x > 4) and (x < 8)  # ERROR: ValueError\n",
        "```\n",
        "\n",
        "Obtendrías un error porque, nuevamente, `and` intenta evaluar la veracidad de todo el array.\n"
      ],
      "metadata": {
        "id": "HzX7j6cYbKE_"
      }
    },
    {
      "cell_type": "code",
      "source": [
        "result1 = True and False\n",
        "result2 = True or False\n",
        "print(result1)\n",
        "print(result2)"
      ],
      "metadata": {
        "colab": {
          "base_uri": "https://localhost:8080/"
        },
        "id": "PUZaZ7D9b-Mp",
        "outputId": "3e134d58-3f59-445b-9477-9fd7b2b429ae"
      },
      "execution_count": null,
      "outputs": [
        {
          "output_type": "stream",
          "name": "stdout",
          "text": [
            "False\n",
            "True\n"
          ]
        }
      ]
    },
    {
      "cell_type": "code",
      "source": [
        "arr1 = np.array([True, True, False, False])\n",
        "arr2 = np.array([True, False, True, False])"
      ],
      "metadata": {
        "id": "AdhhSKJhcKCi"
      },
      "execution_count": null,
      "outputs": []
    },
    {
      "cell_type": "code",
      "source": [
        "result3 = arr1 & arr2\n",
        "result3"
      ],
      "metadata": {
        "colab": {
          "base_uri": "https://localhost:8080/"
        },
        "id": "AfZnEgMWcQNL",
        "outputId": "687f3c7a-d014-43f1-b012-4b80f448cbc4"
      },
      "execution_count": null,
      "outputs": [
        {
          "output_type": "execute_result",
          "data": {
            "text/plain": [
              "array([ True, False, False, False])"
            ]
          },
          "metadata": {},
          "execution_count": 38
        }
      ]
    },
    {
      "cell_type": "code",
      "source": [
        "result4 = arr1 | arr2\n",
        "result4"
      ],
      "metadata": {
        "colab": {
          "base_uri": "https://localhost:8080/"
        },
        "id": "KOxjEcNucRGD",
        "outputId": "5c56ba24-2ec5-4acc-9452-922678e221a5"
      },
      "execution_count": null,
      "outputs": [
        {
          "output_type": "execute_result",
          "data": {
            "text/plain": [
              "array([ True,  True,  True, False])"
            ]
          },
          "metadata": {},
          "execution_count": 40
        }
      ]
    },
    {
      "cell_type": "markdown",
      "source": [
        " Ejercicios de Arrays Booleanos y Máscaras en NumPy\n",
        "\n",
        "## Ejercicio 1: Operaciones básicas con arrays booleanos\n",
        "\n",
        "En este ejercicio practicarás el uso de operaciones de comparación y arrays booleanos en NumPy.\n",
        "\n",
        "```python\n",
        "import numpy as np\n",
        "\n",
        "# 1.1 Crea un array x con los valores del 0 al 9\n",
        "# Tu código aquí\n",
        "\n",
        "# 1.2 Crea un array booleano que sea True para los elementos mayores que 5\n",
        "# Tu código aquí\n",
        "\n",
        "# 1.3 Crea un array booleano que sea True para los elementos pares\n",
        "# (pista: utiliza el operador módulo %)\n",
        "# Tu código aquí\n",
        "\n",
        "# 1.4 Usando operadores lógicos (&, |), crea un array booleano que sea True\n",
        "# para los elementos que sean pares Y mayores que 5\n",
        "# Tu código aquí\n",
        "\n",
        "# 1.5 Cuenta cuántos elementos son pares O mayores que 5\n",
        "# Tu código aquí\n",
        "\n",
        "# 1.6 Extrae en un nuevo array todos los elementos que sean\n",
        "# impares Y menores que 5\n",
        "# Tu código aquí\n",
        "```\n",
        "\n",
        "## Ejercicio 2: Manipulación de datos con máscaras booleanas\n",
        "\n",
        "En este ejercicio utilizarás máscaras booleanas para realizar operaciones sobre un conjunto de datos de temperaturas.\n",
        "\n",
        "```python\n",
        "import numpy as np\n",
        "\n",
        "# 2.1 Crea un array temperaturas con 30 valores aleatorios enteros entre 0 y 35\n",
        "# que representarán temperaturas diarias en grados Celsius\n",
        "np.random.seed(42)  # Para reproducibilidad\n",
        "# Tu código aquí\n",
        "\n",
        "# 2.2 Crea una máscara para los días con temperaturas superiores a 25°C (días calurosos)\n",
        "# Tu código aquí\n",
        "\n",
        "# 2.3 Crea una máscara para los días con temperaturas inferiores a 10°C (días fríos)\n",
        "# Tu código aquí\n",
        "\n",
        "# 2.4 ¿Cuántos días fueron calurosos?\n",
        "# Tu código aquí\n",
        "\n",
        "# 2.5 ¿Cuál fue la temperatura media de los días fríos?\n",
        "# Tu código aquí\n",
        "\n",
        "# 2.6 Crea una máscara para los días con temperaturas \"moderadas\" (entre 15°C y 25°C inclusive)\n",
        "# Tu código aquí\n",
        "\n",
        "# 2.7 Reemplaza las temperaturas de los días fríos por 10°C\n",
        "# Tu código aquí\n",
        "\n",
        "# 2.8 Muestra las 5 temperaturas más altas registradas\n",
        "# (pista: puedes usar np.sort() y arrays booleanos)\n",
        "# Tu código aquí\n",
        "```\n",
        "\n",
        "## Ejercicio 3: Análisis de datos con máscaras booleanas\n",
        "\n",
        "En este ejercicio utilizarás máscaras booleanas para analizar un dataset de calificaciones de estudiantes.\n",
        "\n",
        "```python\n",
        "import numpy as np\n",
        "\n",
        "# 3.1 Crea una matriz calificaciones de forma (10, 4) con valores aleatorios entre 0 y 10\n",
        "# que representan las notas de 10 estudiantes en 4 asignaturas\n",
        "np.random.seed(42)  # Para reproducibilidad\n",
        "# Tu código aquí\n",
        "\n",
        "# 3.2 Crea una máscara para las calificaciones aprobadas (>=5)\n",
        "# Tu código aquí\n",
        "\n",
        "# 3.3 ¿Cuántas calificaciones en total son aprobadas?\n",
        "# Tu código aquí\n",
        "\n",
        "# 3.4 Crea un array que contenga el número de asignaturas aprobadas por cada estudiante\n",
        "# Tu código aquí\n",
        "\n",
        "# 3.5 ¿Cuántos estudiantes han aprobado todas las asignaturas?\n",
        "# Tu código aquí\n",
        "\n",
        "# 3.6 Crea un array con los índices de los estudiantes que tienen alguna calificación excelente (>=9)\n",
        "# Pista: np.where() devuelve los índices donde una condición es True\n",
        "# Tu código aquí\n",
        "\n",
        "# 3.7 Calcula la nota media de cada estudiante y crea un array booleano que\n",
        "# indique qué estudiantes tienen una media superior a 7\n",
        "# Tu código aquí\n",
        "\n",
        "# 3.8 Identifica en qué asignatura se ha obtenido la mejor calificación\n",
        "# (pista: utiliza np.argmax() después de calcular la media por asignatura)\n",
        "# Tu código aquí\n",
        "```"
      ],
      "metadata": {
        "id": "Ayyf0SzjceoK"
      }
    },
    {
      "cell_type": "markdown",
      "source": [
        "### Soluciones"
      ],
      "metadata": {
        "id": "Ds0e9U3nBh3E"
      }
    },
    {
      "cell_type": "code",
      "source": [
        "## Solución Ejercicio 1\n",
        "import numpy as np\n",
        "\n",
        "# 1.1 Crea un array x con los valores del 0 al 9\n",
        "x = np.arange(10)\n",
        "print(x)\n",
        "\n",
        "# 1.2 Crea un array booleano que sea True para los elementos mayores que 5\n",
        "mayores_5 = x > 5\n",
        "print(mayores_5)\n",
        "\n",
        "# 1.3 Crea un array booleano que sea True para los elementos pares\n",
        "# (pista: utiliza el operador módulo %)\n",
        "pares = x % 2 == 0\n",
        "print(pares)\n",
        "\n",
        "# 1.4 Usando operadores lógicos (&, |), crea un array booleano que sea True\n",
        "# para los elementos que sean pares Y mayores que 5\n",
        "pares_mayores_5 = (x % 2 == 0) & (x > 5)\n",
        "print(pares_mayores_5)\n",
        "\n",
        "# 1.5 Cuenta cuántos elementos son pares O mayores que 5\n",
        "count_pares_o_mayores_5 = np.sum((x % 2 == 0) | (x > 5))\n",
        "print(count_pares_o_mayores_5)\n",
        "\n",
        "# 1.6 Extrae en un nuevo array todos los elementos que sean\n",
        "# impares Y menores que 5\n",
        "impares_y_menores_5 = x[(x % 2 != 0) & (x < 5)]\n",
        "print(impares_y_menores_5)\n"
      ],
      "metadata": {
        "colab": {
          "base_uri": "https://localhost:8080/"
        },
        "id": "GaO1Dm6PBel4",
        "outputId": "3a4b6bd4-b6f4-40cc-c95c-df3116eacf53"
      },
      "execution_count": null,
      "outputs": [
        {
          "output_type": "stream",
          "name": "stdout",
          "text": [
            "[0 1 2 3 4 5 6 7 8 9]\n",
            "[False False False False False False  True  True  True  True]\n",
            "[ True False  True False  True False  True False  True False]\n",
            "[False False False False False False  True False  True False]\n",
            "7\n",
            "[1 3]\n"
          ]
        }
      ]
    },
    {
      "cell_type": "code",
      "source": [
        "import numpy as np\n",
        "\n",
        "# 2.1 Crea un array temperaturas con 30 valores aleatorios enteros entre 0 y 35\n",
        "# que representarán temperaturas diarias en grados Celsius\n",
        "np.random.seed(42)  # Para reproducibilidad\n",
        "temperaturas = np.random.randint(0, 36, 30)\n",
        "print(temperaturas)\n",
        "\n",
        "# 2.2 Crea una máscara para los días con temperaturas superiores a 25°C (días calurosos)\n",
        "dias_calurosos = temperaturas > 25\n",
        "print(dias_calurosos)\n",
        "\n",
        "# 2.3 Crea una máscara para los días con temperaturas inferiores a 10°C (días fríos)\n",
        "dias_frios = temperaturas < 10\n",
        "print(dias_frios)\n",
        "\n",
        "# 2.4 ¿Cuántos días fueron calurosos?\n",
        "num_dias_calurosos = np.sum(dias_calurosos)\n",
        "print(num_dias_calurosos)\n",
        "\n",
        "# 2.5 ¿Cuál fue la temperatura media de los días fríos?\n",
        "temp_media_frios = np.mean(temperaturas[dias_frios]) if np.any(dias_frios) else \"No hubo días fríos\"\n",
        "print(temp_media_frios)\n",
        "\n",
        "# 2.6 Crea una máscara para los días con temperaturas \"moderadas\" (entre 15°C y 25°C inclusive)\n",
        "dias_moderados = (temperaturas >= 15) &  (temperaturas <= 25)\n",
        "print(dias_moderados)\n",
        "\n",
        "# 2.7 Reemplaza las temperaturas de los días fríos por 10°C\n",
        "temperaturas_ajustadas = temperaturas.copy()\n",
        "temperaturas_ajustadas[dias_frios] = 10\n",
        "print(temperaturas_ajustadas)\n",
        "\n",
        "# 2.8 Muestra las 5 temperaturas más altas registradas\n",
        "# (pista: puedes usar np.sort() y arrays booleanos)\n",
        "temp_ordenadas = np.sort(temperaturas)\n",
        "cinco_mas_altas = temp_ordenadas[-5:]\n",
        "print(cinco_mas_altas)"
      ],
      "metadata": {
        "colab": {
          "base_uri": "https://localhost:8080/"
        },
        "id": "tVdjtkzdCoh3",
        "outputId": "cfbbc4fc-57f0-4377-fe9b-1c0cc9d31c2e"
      },
      "execution_count": null,
      "outputs": [
        {
          "output_type": "stream",
          "name": "stdout",
          "text": [
            "[28 14  7 20 18 22 10 10 23 35 23  2 21  1 23 29  1 20 32 11 21 24 26 27\n",
            " 15 14  2  6 20  8]\n",
            "[ True False False False False False False False False  True False False\n",
            " False False False  True False False  True False False False  True  True\n",
            " False False False False False False]\n",
            "[False False  True False False False False False False False False  True\n",
            " False  True False False  True False False False False False False False\n",
            " False False  True  True False  True]\n",
            "6\n",
            "3.857142857142857\n",
            "[False False False  True  True  True False False  True False  True False\n",
            "  True False  True False False  True False False  True  True False False\n",
            "  True False False False  True False]\n",
            "[28 14 10 20 18 22 10 10 23 35 23 10 21 10 23 29 10 20 32 11 21 24 26 27\n",
            " 15 14 10 10 20 10]\n",
            "[27 28 29 32 35]\n"
          ]
        }
      ]
    },
    {
      "cell_type": "code",
      "source": [
        "import numpy as np\n",
        "\n",
        "# 3.1 Crea una matriz calificaciones de forma (10, 4) con valores aleatorios entre 0 y 10\n",
        "# que representan las notas de 10 estudiantes en 4 asignaturas\n",
        "np.random.seed(42)  # Para reproducibilidad\n",
        "calificaciones = np.random.randint(0, 11, (10, 4))\n",
        "print(calificaciones)\n",
        "\n",
        "# 3.2 Crea una máscara para las calificaciones aprobadas (>=5)\n",
        "aprobadas = calificaciones >= 5\n",
        "print(aprobadas)\n",
        "\n",
        "# 3.3 ¿Cuántas calificaciones en total son aprobadas?\n",
        "total_aprobadas = np.sum(aprobadas)\n",
        "print(total_aprobadas)\n",
        "\n",
        "# 3.4 Crea un array que contenga el número de asignaturas aprobadas por cada estudiante\n",
        "asignaturas_aprobadas_por_estudiante = np.sum(aprobadas, axis=1)\n",
        "print(asignaturas_aprobadas_por_estudiante)\n",
        "\n",
        "# 3.5 ¿Cuántos estudiantes han aprobado todas las asignaturas?\n",
        "estudiante_todo_aprobado = np.sum(np.all(aprobadas, axis=1))\n",
        "print(estudiante_todo_aprobado)\n",
        "\n",
        "# 3.6 Crea un array con los índices de los estudiantes que tienen alguna calificación excelente (>=9)\n",
        "# Pista: np.where() devuelve los índices donde una condición es True\n",
        "excelentes = calificaciones >= 9\n",
        "estudiantes_con_excelentes = np.where(np.any(excelentes, axis=1))[0]\n",
        "print(estudiantes_con_excelentes)\n",
        "\n",
        "# 3.7 Calcula la nota media de cada estudiante y crea un array booleano que\n",
        "# indique qué estudiantes tienen una media superior a 7\n",
        "medias_estudiantes = np.mean(calificaciones, axis=1)\n",
        "estudiantes_media_superior_7 = medias_estudiantes > 7\n",
        "print(estudiantes_media_superior_7)\n",
        "\n",
        "# 3.8 Identifica en qué asignatura se ha obtenido la mejor calificación\n",
        "# (pista: utiliza np.argmax() después de calcular la media por asignatura)\n",
        "medias_asignaturas = np.mean(calificaciones, axis=0)\n",
        "mejor_asignatura = np.argmax(medias_asignaturas)\n",
        "print(medias_asignaturas)\n",
        "print(mejor_asignatura)"
      ],
      "metadata": {
        "colab": {
          "base_uri": "https://localhost:8080/"
        },
        "id": "1bAQU1SXD8x8",
        "outputId": "0de48867-4c2c-4b46-addf-ba27f7bb12a0"
      },
      "execution_count": null,
      "outputs": [
        {
          "output_type": "stream",
          "name": "stdout",
          "text": [
            "[[ 6  3 10  7]\n",
            " [ 4  6  9  2]\n",
            " [ 6 10 10  7]\n",
            " [ 4  3  7  7]\n",
            " [ 2  5  4  1]\n",
            " [ 7  5  1  4]\n",
            " [ 0  9  5  8]\n",
            " [ 0 10 10  9]\n",
            " [ 2  6  3  8]\n",
            " [ 2  4  2  6]]\n",
            "[[ True False  True  True]\n",
            " [False  True  True False]\n",
            " [ True  True  True  True]\n",
            " [False False  True  True]\n",
            " [False  True False False]\n",
            " [ True  True False False]\n",
            " [False  True  True  True]\n",
            " [False  True  True  True]\n",
            " [False  True False  True]\n",
            " [False False False  True]]\n",
            "23\n",
            "[3 2 4 2 1 2 3 3 2 1]\n",
            "1\n",
            "[0 1 2 6 7]\n",
            "[False False  True False False False False  True False False]\n",
            "[3.3 6.1 6.1 5.9]\n",
            "1\n"
          ]
        }
      ]
    },
    {
      "cell_type": "code",
      "source": [],
      "metadata": {
        "id": "0v2RoXCeJvTT"
      },
      "execution_count": null,
      "outputs": []
    },
    {
      "cell_type": "code",
      "source": [],
      "metadata": {
        "id": "xRGOjTtsJs37"
      },
      "execution_count": null,
      "outputs": []
    },
    {
      "cell_type": "code",
      "source": [],
      "metadata": {
        "id": "mhg31elyJZhA"
      },
      "execution_count": null,
      "outputs": []
    },
    {
      "cell_type": "code",
      "source": [],
      "metadata": {
        "id": "P5FQdSR5JLOW"
      },
      "execution_count": null,
      "outputs": []
    },
    {
      "cell_type": "code",
      "source": [],
      "metadata": {
        "id": "c76SmpgVJAVr"
      },
      "execution_count": null,
      "outputs": []
    },
    {
      "cell_type": "code",
      "source": [],
      "metadata": {
        "id": "IUbkbChQI2Mq"
      },
      "execution_count": null,
      "outputs": []
    },
    {
      "cell_type": "code",
      "source": [],
      "metadata": {
        "id": "KJTwjg8eIvvi"
      },
      "execution_count": null,
      "outputs": []
    },
    {
      "cell_type": "code",
      "source": [],
      "metadata": {
        "id": "tb7XUC5rIqFV"
      },
      "execution_count": null,
      "outputs": []
    },
    {
      "cell_type": "code",
      "source": [],
      "metadata": {
        "id": "rVV-QGodDuvq"
      },
      "execution_count": null,
      "outputs": []
    },
    {
      "cell_type": "code",
      "source": [],
      "metadata": {
        "id": "VTRFUieBDiLp"
      },
      "execution_count": null,
      "outputs": []
    },
    {
      "cell_type": "code",
      "source": [],
      "metadata": {
        "id": "yVqf4tI5DSRv"
      },
      "execution_count": null,
      "outputs": []
    },
    {
      "cell_type": "code",
      "source": [],
      "metadata": {
        "id": "s_9xd4MSDFKW"
      },
      "execution_count": null,
      "outputs": []
    },
    {
      "cell_type": "code",
      "source": [],
      "metadata": {
        "id": "WFfEthluC5VD"
      },
      "execution_count": null,
      "outputs": []
    }
  ]
}